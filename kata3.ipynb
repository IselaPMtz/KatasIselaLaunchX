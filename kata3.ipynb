{
 "cells": [
  {
   "cell_type": "code",
   "execution_count": 1,
   "metadata": {},
   "outputs": [
    {
     "name": "stdout",
     "output_type": "stream",
     "text": [
      "¡Alerta! ¡Un asteroide se acerca rapidamente!\n"
     ]
    }
   ],
   "source": [
    "# Añadir el código necesario para crear una variable que guarde la velocidad del asteroide.\n",
    "# Escribe una expresión de prueba para calcular si necesita una advertencia.\n",
    "# Agregue las instrucciones que se ejecutarán si la expresión de prueba es true o false.\n",
    "\n",
    "velocidad_asteroide = 49\n",
    "if velocidad_asteroide > 25:\n",
    "     print('¡Alerta! ¡Un asteroide se acerca rapidamente!')\n",
    "else:\n",
    "    print('¡No hay peligro alguno!')\n"
   ]
  },
  {
   "cell_type": "code",
   "execution_count": 3,
   "metadata": {},
   "outputs": [
    {
     "name": "stdout",
     "output_type": "stream",
     "text": [
      "¡Todo normal en el cielo!\n"
     ]
    }
   ],
   "source": [
    "# Agrega el código para crear una variable para un asteroide que viaja a 19 km/s\n",
    "# Escribe varias expresiones de prueba para determinar si puedes ver el rayo de luz desde la tierra\n",
    "# Agrega las instrucciones que se ejecutarán si las expresiones de prueba son True o False\n",
    "\n",
    "velocidad_asteroide = 19\n",
    "if velocidad_asteroide >20:\n",
    "    print('¡Oberserven el cielo! ¡Hay un rayo de luz visible!')\n",
    "elif velocidad_asteroide== 20:\n",
    "    print('¡Oberserven el cielo! ¡Hay un rayo de luz visible!')\n",
    "else:\n",
    "    print('cielo normal')\n",
    "\n"
   ]
  },
  {
   "cell_type": "code",
   "execution_count": 4,
   "metadata": {},
   "outputs": [
    {
     "name": "stdout",
     "output_type": "stream",
     "text": [
      "No hay peligro , viene lento\n"
     ]
    }
   ],
   "source": [
    "# Agrega el código para crear nuevas variables para la velocidad y el tamaño del asteroide\n",
    "# Para probar el código, prueba con varias velocidades y tamaños\n",
    "# Escribe varias expresiones de prueba o combinaciones de expresiones de prueba para determinar qué mensaje se debe enviar a Tierra.\n",
    "\n",
    "velocidad_asteroide = 19\n",
    "medida_asteroide = 30\n",
    "if velocidad_asteroide > 25 and medida_asteroide > 25:\n",
    "    print('¡Alerta, Un asteroide muy grande se acerca rapidamente hacia la Tierra!')\n",
    "elif velocidad_asteroide >= 20:\n",
    "    print('¡Oberserven el cielo! ¡Hay un rayo de luz visible')\n",
    "elif medida_asteroide < 25:\n",
    "    print('No hay peligro , cielo normal')\n",
    "else:\n",
    "    print('No hay peligro , viene lento')"
   ]
  }
 ],
 "metadata": {
  "interpreter": {
   "hash": "69eb92836b941e979072a76c7fcfffe5419cca933cedd02cfafbdfca1a93358c"
  },
  "kernelspec": {
   "display_name": "Python 3.9.10 64-bit",
   "language": "python",
   "name": "python3"
  },
  "language_info": {
   "codemirror_mode": {
    "name": "ipython",
    "version": 3
   },
   "file_extension": ".py",
   "mimetype": "text/x-python",
   "name": "python",
   "nbconvert_exporter": "python",
   "pygments_lexer": "ipython3",
   "version": "3.9.10"
  },
  "orig_nbformat": 4
 },
 "nbformat": 4,
 "nbformat_minor": 2
}
