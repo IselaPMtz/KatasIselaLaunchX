{
 "cells": [
  {
   "cell_type": "markdown",
   "metadata": {},
   "source": [
    "## Ejercicio 1"
   ]
  },
  {
   "cell_type": "code",
   "execution_count": 14,
   "metadata": {},
   "outputs": [],
   "source": [
    "# Función para leer 3 tanques de combustible y muestre el promedio\n",
    "def informe_combustible(tanke1,tanke2,tanke3):   \n",
    "    promedio = (tanke1 + tanke2 + tanke3) / 3    \n",
    "    return f\"\"\"Informe Combustible: Tanke1: {tanke1}, Tanke2: {tanke2}, tanke3: {tanke3}\n",
    "    promedio: {promedio}\"\"\""
   ]
  },
  {
   "cell_type": "code",
   "execution_count": 15,
   "metadata": {},
   "outputs": [
    {
     "name": "stdout",
     "output_type": "stream",
     "text": [
      "Informe Combustible: Tanke1: 50, Tanke2: 60, tanke3: 70\n",
      "    promedio: 60.0\n"
     ]
    }
   ],
   "source": [
    "# Llamamos a la función que genera el reporte print(funcion(tanque1, tanque2, tanque3))\n",
    "print(informe_combustible(50,60,70))\n"
   ]
  },
  {
   "cell_type": "code",
   "execution_count": 16,
   "metadata": {},
   "outputs": [],
   "source": [
    "# Función promedio \n",
    "def promedio_combustible(*args):\n",
    "    total_promedio = sum(args)\n",
    "    cantidad = len(args)\n",
    "    return total_promedio / cantidad   "
   ]
  },
  {
   "cell_type": "code",
   "execution_count": 17,
   "metadata": {},
   "outputs": [
    {
     "name": "stdout",
     "output_type": "stream",
     "text": [
      "Informe Combustible: Tanke1: 50, Tanke2: 60, tanke3: 70\n",
      "    promedio: 60.0\n"
     ]
    }
   ],
   "source": [
    "# Actualiza la función\n",
    "def informe_combustible(tanke1,tanke2,tanke3):   \n",
    "    promedio = promedio_combustible(tanke1,tanke2,tanke3)    \n",
    "    return f\"\"\"Informe Combustible: Tanke1: {tanke1}, Tanke2: {tanke2}, tanke3: {tanke3}\n",
    "    promedio: {promedio}\"\"\"\n",
    "\n",
    "print(informe_combustible(50, 60, 70))    \n"
   ]
  },
  {
   "cell_type": "markdown",
   "metadata": {},
   "source": [
    "## Ejercicio 2"
   ]
  },
  {
   "cell_type": "code",
   "execution_count": 25,
   "metadata": {},
   "outputs": [
    {
     "name": "stdout",
     "output_type": "stream",
     "text": [
      "Informe Mision: \n",
      "  Hora Prelanzamiento: 11\n",
      "  Destino: Jupiter \n",
      "  Tiempo de vuelo: 70\n",
      "  Combustible en Tanques: \n",
      "    Externo: 300000\n",
      "    Interno: 400000 \n"
     ]
    }
   ],
   "source": [
    "##Función con un informe preciso de la misión.\n",
    "#  Considera hora de prelanzamiento, tiempo de vuelo, destino, tanque externo y tanque interno7\n",
    "\n",
    "def informe_mision(hora_prelanzamiento,tiempo_vuelo,destino,tanque_externo,tanque_interno):\n",
    "  return f\"\"\"Informe Mision: \n",
    "  Hora Prelanzamiento: {hora_prelanzamiento}\n",
    "  Destino: {destino} \n",
    "  Tiempo de vuelo: {tiempo_vuelo}\n",
    "  Combustible en Tanques: \n",
    "    Externo: {tanque_externo}\n",
    "    Interno: {tanque_interno} \"\"\"\n",
    "\n",
    "print (informe_mision(11, 70, \"Jupiter\", 300000, 400000))\n"
   ]
  },
  {
   "cell_type": "code",
   "execution_count": 26,
   "metadata": {},
   "outputs": [
    {
     "name": "stdout",
     "output_type": "stream",
     "text": [
      "\n",
      "    Informe Mision:  \n",
      "        Destino: Jupiter \n",
      "        Tiempo viaje en minutos: 101 \n",
      "        Combustible reserva: 700000\n",
      "    \n"
     ]
    }
   ],
   "source": [
    "# Escribe tu nueva función de reporte considerando lo anterior\n",
    "def informe_mision(destino, *minutes, **fuel_reservoirs):\n",
    "    return f\"\"\"\n",
    "    Informe Mision:  \n",
    "        Destino: {destino} \n",
    "        Tiempo viaje en minutos: {sum(minutes)} \n",
    "        Combustible reserva: {sum(fuel_reservoirs.values())}\n",
    "    \"\"\"\n",
    "\n",
    "print(informe_mision(\"Jupiter\", 11, 70, 20, tanke2=300000, tanke3=400000))"
   ]
  },
  {
   "cell_type": "code",
   "execution_count": 27,
   "metadata": {},
   "outputs": [
    {
     "name": "stdout",
     "output_type": "stream",
     "text": [
      "\n",
      "    Informe Mision:  \n",
      "        Destino: Jupiter \n",
      "        Tiempo viaje en minutos: 101 \n",
      "        Combustible reserva: 700000\n",
      "    tanke2:300000 \n",
      "tanke3:400000 \n",
      "\n"
     ]
    }
   ],
   "source": [
    "# Escribe tu nueva función\n",
    "def informe_mision(destino, *minutes, **fuel_reservoirs):\n",
    "  informe = f\"\"\"\n",
    "    Informe Mision:  \n",
    "        Destino: {destino} \n",
    "        Tiempo viaje en minutos: {sum(minutes)} \n",
    "        Combustible reserva: {sum(fuel_reservoirs.values())}\n",
    "    \"\"\"\n",
    "  for tanke,cantidad in fuel_reservoirs.items():\n",
    "        nombre_tanke = f\"{tanke}:{cantidad} \\n\"\n",
    "        informe+= nombre_tanke\n",
    "  return informe  \n",
    " \n",
    "print(informe_mision(\"Jupiter\", 11, 70, 20, tanke2=300000, tanke3=400000))"
   ]
  }
 ],
 "metadata": {
  "interpreter": {
   "hash": "69eb92836b941e979072a76c7fcfffe5419cca933cedd02cfafbdfca1a93358c"
  },
  "kernelspec": {
   "display_name": "Python 3.9.10 64-bit",
   "language": "python",
   "name": "python3"
  },
  "language_info": {
   "codemirror_mode": {
    "name": "ipython",
    "version": 3
   },
   "file_extension": ".py",
   "mimetype": "text/x-python",
   "name": "python",
   "nbconvert_exporter": "python",
   "pygments_lexer": "ipython3",
   "version": "3.9.10"
  },
  "orig_nbformat": 4
 },
 "nbformat": 4,
 "nbformat_minor": 2
}
